{
 "cells": [
  {
   "cell_type": "code",
   "execution_count": 3,
   "metadata": {},
   "outputs": [
    {
     "name": "stdout",
     "output_type": "stream",
     "text": [
      "Ваш алгоритм угадывает число в среднем за 5 попыток\n"
     ]
    },
    {
     "data": {
      "text/plain": [
       "5"
      ]
     },
     "execution_count": 3,
     "metadata": {},
     "output_type": "execute_result"
    }
   ],
   "source": [
    "import numpy as np\n",
    "\n",
    "number = np.random.randint(1, 101)\n",
    "list = [i for i in range(1, 101)]  # назначаем массив, в котором будем искать число\n",
    "max = 101\n",
    "\n",
    "\n",
    "def game_core_v2(number):\n",
    "    start = 0  # начальный индекс\n",
    "    end = max - 1  # конечный индекс\n",
    "    count = 0\n",
    "    while start <= end:  # начинаем искать диапазон загаданного числа\n",
    "        count += 1  # задаем алгоритм счетчика\n",
    "        predict = (start + end) // 2  # делим массив на две почти равные части\n",
    "        if number < list[predict]:  # если загаданное число  находится ниже индекса середины\n",
    "            end = predict - 1  # то верхняя граница сдвигается на середину\n",
    "        elif number > list[predict]:    # если загаданное число находится выше индекса середины\n",
    "            start = predict + 1  # то нижняя граница начинается с индекса середины\n",
    "        else:\n",
    "            return (count)\n",
    "\n",
    "\n",
    "def score_game(game_core):\n",
    "    '''Запускаем игру 1000 раз, чтобы узнать, как быстро игра угадывает число'''\n",
    "    count_ls = []\n",
    "    np.random.seed(1)  # фиксируем RANDOM SEED, чтобы ваш эксперимент был воспроизводим!\n",
    "    random_array = np.random.randint(1, 101, size=(1000))\n",
    "    for number in random_array:\n",
    "        count_ls.append(game_core(number))\n",
    "    score = int(np.mean(count_ls))\n",
    "    print(f\"Ваш алгоритм угадывает число в среднем за {score} попыток\")\n",
    "    return (score)\n",
    "\n",
    "\n",
    "score_game(game_core_v2)\n"
   ]
  },
  {
   "cell_type": "code",
   "execution_count": null,
   "metadata": {},
   "outputs": [],
   "source": []
  }
 ],
 "metadata": {
  "kernelspec": {
   "display_name": "Python 3",
   "language": "python",
   "name": "python3"
  },
  "language_info": {
   "codemirror_mode": {
    "name": "ipython",
    "version": 3
   },
   "file_extension": ".py",
   "mimetype": "text/x-python",
   "name": "python",
   "nbconvert_exporter": "python",
   "pygments_lexer": "ipython3",
   "version": "3.7.6"
  }
 },
 "nbformat": 4,
 "nbformat_minor": 4
}
